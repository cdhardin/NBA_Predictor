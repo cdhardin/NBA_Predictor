{
 "cells": [
  {
   "cell_type": "code",
   "execution_count": 1,
   "id": "6fa8eb40-952b-4f40-8072-11ae954122a3",
   "metadata": {},
   "outputs": [],
   "source": [
    "import numpy as np\n",
    "import requests\n",
    "from selenium import webdriver\n",
    "\n",
    "from selenium.webdriver.common.by import By\n",
    "\n",
    "from selenium.webdriver.support.ui import Select\n",
    "import csv\n",
    "from bs4 import BeautifulSoup\n",
    "import pandas as pd"
   ]
  },
  {
   "cell_type": "code",
   "execution_count": 3,
   "id": "0d7eb9f8-42d2-42df-a0e7-77b1714fb0e4",
   "metadata": {},
   "outputs": [],
   "source": [
    "# Open Browser of all players \n",
    "driver = webdriver.Chrome()  \n",
    "\n",
    "\n",
    "url = \"https://www.nba.com/stats/players/touches\"\n",
    "driver.get(url)"
   ]
  },
  {
   "cell_type": "code",
   "execution_count": 9,
   "id": "cfb851d9-7c7d-4336-a2c8-063f053a3cbf",
   "metadata": {},
   "outputs": [],
   "source": [
    "# Manually change page through all 12 windows. Run this Block each time\n",
    "page_source = driver.page_source\n",
    "\n",
    "# Parse the HTML content\n",
    "soup = BeautifulSoup(page_source, \"html.parser\")\n",
    "tableClass = soup.find_all(class_=\"Crom_body__UYOcU\")\n",
    "table = tableClass[0]"
   ]
  },
  {
   "cell_type": "code",
   "execution_count": 12,
   "id": "0438b5ea-d23a-449e-9e09-94c110e3bf24",
   "metadata": {},
   "outputs": [],
   "source": [
    "# Extract column headers\n",
    "headers = [\n",
    "\n",
    "# Extract table rows\n",
    "data = []\n",
    "for tr in table.find_all('tr')[1:]:\n",
    "    row = [td.text.strip() for td in tr.find_all('td')]\n",
    "    data.append(row)"
   ]
  },
  {
   "cell_type": "code",
   "execution_count": 16,
   "id": "2cc378bf-44d2-47fc-9b79-5069f7b6c3fe",
   "metadata": {},
   "outputs": [],
   "source": [
    "# Create DataFrame\n",
    "df = pd.DataFrame(data, columns=headers)"
   ]
  },
  {
   "cell_type": "code",
   "execution_count": 15,
   "id": "bfe2e17f-4eee-46b6-be1f-c980340517e2",
   "metadata": {},
   "outputs": [],
   "source": [
    "headers = np.array([\n",
    "    'PLAYER\t',\n",
    "    'TEAM\t',\n",
    "    'GP',\n",
    "    'W',\n",
    "    'L',\n",
    "    'MIN\t',\n",
    "    'PTS\t',\n",
    "    'TOUCHES\t',\n",
    "    'FRONT CT TOUCHES\t',\n",
    "    'TIME OF POSS\t',\n",
    "    'AVG SEC PER TOUCH\t',\n",
    "    'AVG DRIB PER TOUCH\t',\n",
    "    'PTS PER TOUCH\t',\n",
    "    'ELBOW TOUCHES',\n",
    "    'POST UPS',\n",
    "    'PAINT TOUCHES',\n",
    "    'PTS PER ELBOW TOUCH\t',\n",
    "    'PTS PER POST TOUCH\t',\n",
    "    'PTS PER PAINT TOUCH'\n",
    "    ])"
   ]
  },
  {
   "cell_type": "code",
   "execution_count": 18,
   "id": "b8ff5239-6f14-45b5-8dd7-478a31eb9184",
   "metadata": {},
   "outputs": [],
   "source": [
    "df.to_csv('touchesData.csv', index=False)  # Set index=False to avoid saving the index column\n"
   ]
  },
  {
   "cell_type": "code",
   "execution_count": null,
   "id": "53b965c0-0fc4-4618-9149-146724b418c4",
   "metadata": {},
   "outputs": [],
   "source": []
  }
 ],
 "metadata": {
  "kernelspec": {
   "display_name": "Python 3 (ipykernel)",
   "language": "python",
   "name": "python3"
  },
  "language_info": {
   "codemirror_mode": {
    "name": "ipython",
    "version": 3
   },
   "file_extension": ".py",
   "mimetype": "text/x-python",
   "name": "python",
   "nbconvert_exporter": "python",
   "pygments_lexer": "ipython3",
   "version": "3.11.7"
  }
 },
 "nbformat": 4,
 "nbformat_minor": 5
}
