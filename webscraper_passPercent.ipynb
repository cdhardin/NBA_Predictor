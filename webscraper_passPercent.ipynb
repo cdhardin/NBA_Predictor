{
 "cells": [
  {
   "cell_type": "code",
   "execution_count": 2,
   "id": "ffeff19e-ca27-4504-8508-57dd14edd1a6",
   "metadata": {},
   "outputs": [],
   "source": [
    "import numpy as np\n",
    "import requests\n",
    "from selenium import webdriver\n",
    "\n",
    "from selenium.webdriver.common.by import By\n",
    "\n",
    "from selenium.webdriver.support.ui import Select\n",
    "import csv\n",
    "from bs4 import BeautifulSoup\n",
    "import pandas as pd"
   ]
  },
  {
   "cell_type": "code",
   "execution_count": 2,
   "id": "8fed5f06-0f30-48ad-b65b-8ba49e18ac75",
   "metadata": {},
   "outputs": [],
   "source": [
    "pages = []"
   ]
  },
  {
   "cell_type": "code",
   "execution_count": 3,
   "id": "6104ecb5-62ae-4a60-af60-e72c38c136e9",
   "metadata": {},
   "outputs": [],
   "source": [
    "# Open Browser of all players \n",
    "driver = webdriver.Chrome()  \n",
    "\n",
    "\n",
    "url = \"https://www.nba.com/players\"\n",
    "driver.get(url)"
   ]
  },
  {
   "cell_type": "code",
   "execution_count": 4,
   "id": "e54d5418-944c-46a8-8351-02fe3a5d89e5",
   "metadata": {},
   "outputs": [],
   "source": [
    "# Manually change page through all 12 windows. Run this Block each time\n",
    "page_source = driver.page_source\n",
    "\n",
    "# Parse the HTML content\n",
    "soup = BeautifulSoup(page_source, \"html.parser\")\n",
    "playerList = soup.find_all(class_=\"primary text RosterRow_primaryCol__1lto4\")\n",
    "pages.append(playerList)"
   ]
  },
  {
   "cell_type": "code",
   "execution_count": 6,
   "id": "88267295-b6a1-4c2b-a13e-b7a81afde343",
   "metadata": {},
   "outputs": [],
   "source": [
    "# Initialize playerURLS to start\n",
    "playerUrls = []"
   ]
  },
  {
   "cell_type": "code",
   "execution_count": 7,
   "id": "39f7a0dc-bef7-4bf5-97ca-da7994f7ea17",
   "metadata": {},
   "outputs": [],
   "source": [
    "# Parse the HTML to get URLS\n",
    "for playerList in pages:\n",
    "    \n",
    "    for player in playerList:\n",
    "        soup = BeautifulSoup(str(player), 'html.parser')\n",
    "        \n",
    "        # Find the <a> tag with the specified class\n",
    "        a_tag = soup.find('a', class_='Anchor_anchor__cSc3P')\n",
    "\n",
    "        if a_tag == None: continue\n",
    "        # Extract the value of the 'href' attribute\n",
    "        url = a_tag['href']\n",
    "        url_parts = url.split(\"/\")\n",
    "    \n",
    "        # Join the first three parts back together\n",
    "        desired_url = \"/\".join(url_parts[:3])\n",
    "        \n",
    "        playerUrls.append(desired_url)"
   ]
  },
  {
   "cell_type": "code",
   "execution_count": 3,
   "id": "4d319599-f459-40ce-983f-4e071dc7e7c5",
   "metadata": {},
   "outputs": [],
   "source": [
    "# Initialize the Final dict\n",
    "playerPasses = {}"
   ]
  },
  {
   "cell_type": "code",
   "execution_count": 9,
   "id": "515baafe-8c4e-4aad-94cf-5b854b148ebe",
   "metadata": {},
   "outputs": [
    {
     "data": {
      "text/plain": [
       "{}"
      ]
     },
     "execution_count": 9,
     "metadata": {},
     "output_type": "execute_result"
    }
   ],
   "source": [
    "playerPasses"
   ]
  },
  {
   "cell_type": "code",
   "execution_count": 4,
   "id": "8e52fe82-72c3-4ac4-926b-d6599e26c9f1",
   "metadata": {},
   "outputs": [],
   "source": [
    "#Stop warnings from showing up (they come up in pass pages\n",
    "import warnings\n",
    "\n",
    "\n",
    "warnings.simplefilter(action='ignore', category=FutureWarning)\n"
   ]
  },
  {
   "cell_type": "code",
   "execution_count": 6,
   "id": "7c2892d2-d787-4f3a-a99b-abb2fc343ed8",
   "metadata": {},
   "outputs": [],
   "source": [
    "playerUrls = ['/player/204001']"
   ]
  },
  {
   "cell_type": "code",
   "execution_count": 7,
   "id": "c9877769-03db-4a6b-a347-c7fa1b6b3924",
   "metadata": {},
   "outputs": [
    {
     "data": {
      "text/plain": [
       "1"
      ]
     },
     "execution_count": 7,
     "metadata": {},
     "output_type": "execute_result"
    }
   ],
   "source": [
    "#Check how long the array is\n",
    "len(playerUrls)"
   ]
  },
  {
   "cell_type": "code",
   "execution_count": 10,
   "id": "57fba8f8-c1af-408e-862f-3a550f91afb9",
   "metadata": {},
   "outputs": [],
   "source": [
    "#Go through list of player links. Donwload the data and hold in Dictionary\n",
    "\n",
    "for playerLink in playerUrls[331:]:\n",
    "\n",
    "    url = f\"https://www.nba.com/stats{playerLink}/passes-dash\"\n",
    "\n",
    "    # Set up Selenium webdriver (you need to have appropriate webdriver installed, e.g., chromedriver)\n",
    "    driver = webdriver.Chrome()\n",
    "    \n",
    "    # Load the webpage\n",
    "    driver.get(url)\n",
    "    \n",
    "    # Wait for the page to fully load (adjust the time as needed)\n",
    "    driver.implicitly_wait(15)  # Wait for up to 15 seconds\n",
    "    \n",
    "    # Get the page source after dynamic content has been loaded\n",
    "    page_source = driver.page_source\n",
    "    \n",
    "    # Close the webdriver\n",
    "    driver.quit()\n",
    "    \n",
    "    # Parse the page source with BeautifulSoup\n",
    "    soup = BeautifulSoup(page_source, \"html.parser\")\n",
    "    \n",
    "    \n",
    "    # Find the table\n",
    "    tables = soup.find_all(class_ = \"Crom_table__p1iZz\")\n",
    "    \n",
    "    \n",
    "\n",
    "    summary = soup.find(class_ = \"PlayerSummary_mainInnerBio__JQkoj\")\n",
    "\n",
    "    if summary == None: \n",
    "        print(f'ERROR at : {url}')\n",
    "        continue\n",
    "    \n",
    "    names_array = [p.get_text(strip=True) for p in summary]\n",
    "    name = f'{names_array[-2]}{names_array[-1]}'\n",
    "\n",
    "    if len(tables) < 2:\n",
    "        print(f'No data for {name}')\n",
    "        continue\n",
    "        \n",
    "    \n",
    "    passIn = tables[0]\n",
    "    passOut = tables[1]\n",
    "\n",
    "    summary = soup.find(class_ = \"PlayerSummary_mainInnerBio__JQkoj\")\n",
    "    names_array = [p.get_text(strip=True) for p in summary]\n",
    "    name = f'{names_array[-2]}{names_array[-1]}'\n",
    "    \n",
    "    # Convert the table to a DataFrame\n",
    "    df_in = pd.read_html(str(passIn))[0]  # Assuming the table you want is the first one\n",
    "    df_in.columns = df_in.columns.droplevel()\n",
    "    freq_in = df_in[[df_in.columns[0],df_in.columns[2]]]\n",
    "    \n",
    "    \n",
    "    \n",
    "    df_out = pd.read_html(str(passOut))[0]  # Assuming the table you want is the first one\n",
    "    df_out.columns = df_out.columns.droplevel()\n",
    "    freq_out = df_out[[df_out.columns[0],df_out.columns[2]]]\n",
    "    \n",
    "    \n",
    "    playerPasses[name] = (freq_in,freq_out)"
   ]
  },
  {
   "cell_type": "code",
   "execution_count": 19,
   "id": "07ddc623-2d0a-4524-932d-f82e2494618a",
   "metadata": {},
   "outputs": [
    {
     "data": {
      "text/plain": [
       "560"
      ]
     },
     "execution_count": 19,
     "metadata": {},
     "output_type": "execute_result"
    }
   ],
   "source": [
    "len(playerPasses.keys())"
   ]
  },
  {
   "cell_type": "markdown",
   "id": "837f22c2-8b79-4f00-ae11-5f694c86835e",
   "metadata": {},
   "source": [
    "## what do these pages have?\n",
    " df_in.columns = 'Pass To', 'Team', 'FREQ M%', 'PASS', 'AST', 'FGM', 'FGA', 'FG%',\n",
    "       '2FGM', '2FGA', '2FG%', '3FGM', '3FGA', '3FG%', 'Unnamed: 14_level_1',\n",
    "       'Unnamed: 15_level_1', 'Unnamed: 16_level_1', 'Unnamed: 17_level_1',\n",
    "       'Unnamed: 18_level_1'"
   ]
  },
  {
   "cell_type": "code",
   "execution_count": 39,
   "id": "7a054f56-5533-4d1a-89bc-e22ded04aec7",
   "metadata": {},
   "outputs": [
    {
     "data": {
      "text/plain": [
       "dict_keys(['PreciousAchiuwa', 'BamAdebayo', 'SantiAldama', 'GraysonAllen', 'JoseAlvarado', 'ThanasisAntetokounmpo', 'DeniAvdija', 'DeandreAyton', 'UdokaAzubuike', 'IbouBadji', 'LaMeloBall', 'MoBamba', 'PaoloBanchero', 'HarrisonBarnes', 'ScottieBarnes', 'CharlesBassey', 'KeitaBates-Diop', 'DariusBazley', 'BradleyBeal', 'MarJonBeauchamp', 'JulesBernard', 'DavisBertans', 'PatrickBeverley', 'OnuralpBitim', 'BismackBiyombo', 'LeakyBlack', 'BogdanBogdanovic', 'BolBol', 'BrandonBoston Jr.', 'ChrisBoucher', 'JamesBouknight', 'JamareeBouyea', 'MalakiBranham', 'ChristianBraun', 'MilesBridges', 'OshaeBrissett', 'IzaiahBrockington', 'ArmoniBrooks', 'KendallBrown', 'GregBrown III', 'CharlieBrown Jr.', 'ThomasBryant', 'ReggieBullock Jr.', 'JimmyButler', 'KentaviousCaldwell-Pope', 'ClintCapela', 'WendellCarter Jr.', 'AlexCaruso', 'GogaBitadze', 'AnthonyBlack', 'BuddyBoeheim', 'MarquesBolden', 'JustinChampagnie', 'MaxChristie', 'SidyCissoko', 'BrandonClarke', 'JohnCollins', 'MikeConley', 'BilalCoulibaly', 'RobertCovington', 'JalenCrutcher', 'CadeCunningham', 'SethCurry', 'DysonDaniels', 'AnthonyDavis', 'MamadiDiakite', 'SpencerDinwiddie', 'LuguentzDort', 'AyoDosunmu', 'HenriDrell', 'AndreDrummond', 'ChrisDuarte', 'KrisDunn', 'AnthonyEdwards', 'KeonEllis', 'JoelEmbiid', 'DrewEubanks', 'TosanEvbuomwan', 'DanteExum', 'AdamFlagler', 'MalachiFlynn', 'TrentForrest', 'JavonFreeman-Liberty', 'AndrewFunk', 'DaniloGallinari', 'LukaGarza', 'KeyonteGeorge', 'PaulGeorge', 'TajGibson', 'JoshGiddey', 'HarryGiles III', 'CollinGillespie', 'RudyGobert', 'JordanGoodwin', 'AaronGordon', \"Devonte'Graham\", 'AJGreen', 'DannyGreen', 'JalenGreen', 'JeffGreen', 'JoshGreen', 'AJGriffin', 'QuentinGrimes', 'MouhamedGueye', 'RuiHachimura', 'AshtonHagans', 'TyreseHaliburton', 'R.J.Hampton', 'TimHardaway Jr.', 'JoeHarris', 'JoshHart', 'JaxsonHayes', 'KillianHayes', 'ScootHenderson', 'TaylorHendricks', 'BuddyHield', 'NateHinton', 'ChetHolmgren', 'JalenHood-Schifino', 'AlHorford', 'TalenHorton-Tucker', 'JayHuff', 'BonesHyland', 'JoeIngles', 'JonathanIsaac', 'IsaiahJackson', 'QuentonJackson', 'AndreJackson Jr.', 'LeBronJames', 'DeJonJarreau', 'DaQuanJeffries', 'TreyJemison', 'CameronJohnson', 'JalenJohnson', 'JamesJohnson', 'KeldonJohnson', 'HerbertJones', 'TreJones', 'DeAndreJordan', 'CoryJoseph', 'NikolaJovic', 'LukeKornet', 'VitKrejci', 'KyleKuzma', 'JockLandale', 'A.J.Lawson', 'SabenLee', 'AlexLen', 'DamianLillard', 'ChrisLivingston', 'KevonLooney', 'BrookLopez', 'RobinLopez', 'KevinLove', 'SethLundy', 'TreyLyles', 'TeranceMann', 'TreMann', 'BobanMarjanovic', 'NajiMarshall', 'GarrisonMathews', 'BennedictMathurin', 'WesleyMatthews', 'MilesMcBride', 'CJMcCollum', 'JadenMcDaniels', 'JaValeMcGee', 'BryceMcGowens', \"De'AnthonyMelton\", 'BrandonMiller', 'JordanMiller', 'ShakeMilton', 'JoshMinott', 'DonovanMitchell', 'EvanMobley', 'XavierMoon', 'TazeMoore', 'WendellMoore Jr.', 'JaMorant', 'MarkieffMorris', 'MarcusMorris Sr.', 'DejounteMurray', 'KeeganMurray', 'MikeMuscala', 'SviMykhailiuk', 'AaronNesmith', 'ZekeNnaji', 'JaylenNowell', 'FrankNtilikina', 'JusufNurkic', 'JordanNwora', 'ChumaOkeke', 'EugeneOmoruyi', 'CediOsman', 'KellyOubre Jr.', 'ChrisPaul', 'GaryPayton II', 'DrewPeterson', 'JulianPhillips', 'BrandinPodziemski', 'JakobPoeltl', 'AleksejPokusevski', 'JontayPorter', 'CraigPorter Jr.', 'OttoPorter Jr.', 'KristapsPorzingis', 'NormanPowell', 'JasonPreston', 'TaureanPrince', 'ImmanuelQuickley', 'DuopReath', 'CamReddish', 'PaulReed', 'NazReid', 'JaredRhoden', 'MitchellRobinson', 'OrlandoRobinson', 'DerrickRose', 'TerryRozier', 'RayanRupert', 'JermaineSamuels Jr.', 'AdamaSanogo', 'GuiSantos', 'OlivierSarr', 'MarcusSasser', 'DennisSchroder', 'DereonSeabron', 'CollinSexton', \"Day'RonSharpe\", 'BenSimmons', 'JerichoSims', 'DmytroSkapintsev', 'MarcusSmart', 'IshSmith', 'JalenSmith', 'DennisSmith Jr.', 'JeremySochan', 'PatSpencer', 'JulianStrawther', 'JalenSuggs', 'JaysonTatum', 'TerryTaylor', 'GarrettTemple', 'DalenTerry', 'CamThomas', 'IsaiahThomas', 'AusarThompson', 'KlayThompson', 'TristanThompson', 'JTThor', 'MatisseThybulle', 'XavierTillman', 'Karl-AnthonyTowns', 'OscarTshiebwe', 'P.J.Tucker', 'MylesTurner', 'HunterTyson', 'JarredVanderbilt', 'DevinVassell', 'CasonWallace', 'P.J.Washington', 'TyTyWashington Jr.', 'YutaWatanabe', 'PeytonWatson', 'BlakeWesley', 'DariqWhitehead', 'AndrewWiggins', 'AlondesWilliams', 'GrantWilliams', 'JalenWilliams', 'JaylinWilliams', 'KenrichWilliams', 'NateWilliams', 'VinceWilliams Jr.', 'ZionWilliamson', 'D.J.Wilson', 'JalenWilson', 'DylanWindler', 'JamesWiseman', 'DelonWright', 'ThaddeusYoung', 'TraeYoung', 'CodyZeller'])"
      ]
     },
     "execution_count": 39,
     "metadata": {},
     "output_type": "execute_result"
    }
   ],
   "source": [
    "playerPasses.keys()"
   ]
  },
  {
   "cell_type": "code",
   "execution_count": 2,
   "id": "76085126-1521-4e5f-8868-507791fb431f",
   "metadata": {},
   "outputs": [],
   "source": [
    "##READ IN PLAYER INDEXES:\n",
    "def strip_bracket1(word):\n",
    "    return word.strip('[')\n",
    "def strip_bracket2(word):\n",
    "    return word.strip(']')\n",
    "# Open the CSV file\n",
    "with open('playerIndexesNBA.csv', newline='') as csvfile:\n",
    "    # Create a CSV reader object\n",
    "    csv_reader = csv.reader(csvfile)\n",
    "    \n",
    "    # Initialize an empty list to hold the data\n",
    "    playerUrls = []\n",
    "    \n",
    "    # Iterate over each row in the CSV file\n",
    "    for row in csv_reader:\n",
    "        # Append each row to the data_array\n",
    "        playerUrls.append(row[0])\n",
    "\n",
    "playerUrls = np.array(playerUrls)"
   ]
  },
  {
   "cell_type": "code",
   "execution_count": 3,
   "id": "0473471a-2dfe-4db6-845f-cc54fb4d1ccf",
   "metadata": {},
   "outputs": [
    {
     "data": {
      "text/plain": [
       "array(['/player/1630173', '/player/203500', '/player/1628389',\n",
       "       '/player/1630534', '/player/1630583', '/player/1629638',\n",
       "       '/player/1628960', '/player/1628386', '/player/1630631',\n",
       "       '/player/203937', '/player/203507', '/player/203648',\n",
       "       '/player/1630175', '/player/1628384', '/player/1627853',\n",
       "       '/player/1630166', '/player/1629028', '/player/1628962',\n",
       "       '/player/1630641', '/player/1628963', '/player/1641735',\n",
       "       '/player/1631116', '/player/1630163', '/player/1628366',\n",
       "       '/player/1628964', '/player/1631094', '/player/1630217',\n",
       "       '/player/1630625', '/player/1631230', '/player/203084',\n",
       "       '/player/1630567', '/player/1629628', '/player/1629646',\n",
       "       '/player/1641734', '/player/1628966', '/player/201587',\n",
       "       '/player/1629647', '/player/203078', '/player/1627736',\n",
       "       '/player/1630699', '/player/1631262', '/player/202722',\n",
       "       '/player/201976', '/player/1630180', '/player/1629048',\n",
       "       '/player/1641931', '/player/202687', '/player/1641710',\n",
       "       '/player/1641778', '/player/1631205', '/player/203992',\n",
       "       '/player/202711', '/player/1629626', '/player/1629716',\n",
       "       '/player/1626164', '/player/1630527', '/player/1628449',\n",
       "       '/player/1630547', '/player/1631123', '/player/1631103',\n",
       "       '/player/1631128', '/player/1628969', '/player/1628970',\n",
       "       '/player/1629052', '/player/1631167', '/player/1627763',\n",
       "       '/player/1629717', '/player/1628415', '/player/1628971',\n",
       "       '/player/1627759', '/player/1631112', '/player/1641738',\n",
       "       '/player/1629650', '/player/1630535', '/player/1629718',\n",
       "       '/player/1628972', '/player/1628973', '/player/1628418',\n",
       "       '/player/1641723', '/player/203493', '/player/202692',\n",
       "       '/player/1630215', '/player/202710', '/player/1631288',\n",
       "       '/player/203484', '/player/1641739', '/player/1628427',\n",
       "       '/player/203991', '/player/1628975', '/player/1628976',\n",
       "       '/player/1630618', '/player/1627936', '/player/1630658',\n",
       "       '/player/1630608', '/player/1630577', '/player/1630551',\n",
       "       '/player/1631108', '/player/1631321', '/player/1641740',\n",
       "       '/player/1629634', '/player/203903', '/player/1629651',\n",
       "       '/player/1641730', '/player/1629599', '/player/1628381',\n",
       "       '/player/1628380', '/player/201144', '/player/1626192',\n",
       "       '/player/1641731', '/player/1641741', '/player/203496',\n",
       "       '/player/1628470', '/player/203109', '/player/1630622',\n",
       "       '/player/1630595', '/player/203552', '/player/201939',\n",
       "       '/player/1630700', '/player/203076', '/player/1631098',\n",
       "       '/player/1631120', '/player/201942', '/player/1641926',\n",
       "       '/player/1628978', '/player/1631217', '/player/1629603',\n",
       "       '/player/1628977', '/player/1641711', '/player/1631172',\n",
       "       '/player/203915', '/player/1629029', '/player/1629652',\n",
       "       '/player/1630245', '/player/1630288', '/player/1630929',\n",
       "       '/player/203083', '/player/1630537', '/player/1630561',\n",
       "       '/player/1627739', '/player/201142', '/player/1631105',\n",
       "       '/player/1631106', '/player/1630162', '/player/1630556',\n",
       "       '/player/1631165', '/player/203954', '/player/1629234',\n",
       "       '/player/1641787', '/player/203957', '/player/1628981',\n",
       "       '/player/1627827', '/player/1641745', '/player/1630201',\n",
       "       '/player/1631323', '/player/1630259', '/player/1630235',\n",
       "       '/player/203095', '/player/1628368', '/player/1631241',\n",
       "       '/player/1641788', '/player/1628365', '/player/1641847',\n",
       "       '/player/1629117', '/player/1629655', '/player/201568',\n",
       "       '/player/1641945', '/player/1629636', '/player/1630586',\n",
       "       '/player/1630568', '/player/1629232', '/player/1641718',\n",
       "       '/player/202331', '/player/201959', '/player/1630581',\n",
       "       '/player/1628385', '/player/1628983', '/player/1630264',\n",
       "       '/player/1631221', '/player/1631367', '/player/203497',\n",
       "       '/player/1630692', '/player/203932', '/player/201569',\n",
       "       '/player/1628984', '/player/203924', '/player/1630564',\n",
       "       '/player/1631260', '/player/201980', '/player/203110',\n",
       "       '/player/1630224', '/player/1629750', '/player/201145',\n",
       "       '/player/1630182', '/player/1631100', '/player/1629656',\n",
       "       '/player/1631338', '/player/1631243', '/player/1629060',\n",
       "       '/player/1630204', '/player/1630169', '/player/1630181',\n",
       "       '/player/203501', '/player/201935', '/player/1630702',\n",
       "       '/player/1631199', '/player/203914', '/player/203925',\n",
       "       '/player/1630284', '/player/202699', '/player/1627885',\n",
       "       '/player/1628404', '/player/1628392', '/player/1630573',\n",
       "       '/player/1641722', '/player/1629637', '/player/1630165',\n",
       "       '/player/202330', '/player/1630703', '/player/1641707',\n",
       "       '/player/1629639', '/player/1627741', '/player/1629312',\n",
       "       '/player/1630792', '/player/1630207', '/player/1641793',\n",
       "       '/player/1628988', '/player/201950', '/player/203200',\n",
       "       '/player/1626158', '/player/1631096', '/player/1641720',\n",
       "       '/player/201143', '/player/1629659', '/player/1627863',\n",
       "       '/player/1631216', '/player/1641724', '/player/1628989',\n",
       "       '/player/1630643', '/player/1629631', '/player/1630562',\n",
       "       '/player/1630538', '/player/204060', '/player/1627742',\n",
       "       '/player/202681', '/player/1628371', '/player/1631093',\n",
       "       '/player/1641713', '/player/1630543', '/player/1628382',\n",
       "       '/player/1631245', '/player/202704', '/player/1641748',\n",
       "       '/player/1628991', '/player/1631218', '/player/2544',\n",
       "       '/player/1631170', '/player/1630610', '/player/1629610',\n",
       "       '/player/1641998', '/player/1629660', '/player/1630198',\n",
       "       '/player/1629661', '/player/1630552', '/player/201949',\n",
       "       '/player/1629640', '/player/1630553', '/player/1641749',\n",
       "       '/player/203999', '/player/1641732', '/player/1627745',\n",
       "       '/player/1630529', '/player/1630222', '/player/1630200',\n",
       "       '/player/1626145', '/player/1627884', '/player/201599',\n",
       "       '/player/202709', '/player/1631107', '/player/1630548',\n",
       "       '/player/1628379', '/player/1631117', '/player/1630296',\n",
       "       '/player/1630557', '/player/1628467', '/player/1628995',\n",
       "       '/player/1629723', '/player/1627788', '/player/1628436',\n",
       "       '/player/1630249', '/player/1630228', '/player/1628398',\n",
       "       '/player/1631222', '/player/203897', '/player/1629111',\n",
       "       '/player/1630639', '/player/1627747', '/player/1627814',\n",
       "       '/player/1630240', '/player/203458', '/player/202695',\n",
       "       '/player/1641721', '/player/1630184', '/player/1630604',\n",
       "       '/player/203081', '/player/1629642', '/player/1641726',\n",
       "       '/player/1630587', '/player/1641753', '/player/1631254',\n",
       "       '/player/1626172', '/player/201572', '/player/201577',\n",
       "       '/player/201567', '/player/200768', '/player/1641754',\n",
       "       '/player/1626168', '/player/1630177', '/player/1630572',\n",
       "       '/player/1629611', '/player/1630544', '/player/1626246',\n",
       "       '/player/1628374', '/player/1630230', '/player/1628997',\n",
       "       '/player/1628998', '/player/1641798', '/player/1630231',\n",
       "       '/player/1629726', '/player/1631097', '/player/202083',\n",
       "       '/player/1630178', '/player/1630219', '/player/1630540',\n",
       "       '/player/203468', '/player/204456', '/player/1630183',\n",
       "       '/player/1629667', '/player/203926', '/player/201580',\n",
       "       '/player/1631121', '/player/1629162', '/player/1629001',\n",
       "       '/player/1641877', '/player/1630241', '/player/1629002',\n",
       "       '/player/203995', '/player/203114', '/player/1641706',\n",
       "       '/player/1641757', '/player/1631159', '/player/201988',\n",
       "       '/player/1629003', '/player/1631303', '/player/1631169',\n",
       "       '/player/1630558', '/player/1628378', '/player/1630596',\n",
       "       '/player/1630600', '/player/1628370', '/player/1630541',\n",
       "       '/player/1629875', '/player/1631386', '/player/1631111',\n",
       "       '/player/1629630', '/player/202693', '/player/1628420',\n",
       "       '/player/202694', '/player/1630530', '/player/1627749',\n",
       "       '/player/1627750', '/player/1631099', '/player/1631200',\n",
       "       '/player/203488', '/player/1629004', '/player/1631250',\n",
       "       '/player/1626204', '/player/1629614', '/player/1630174',\n",
       "       '/player/1627777', '/player/1630227', '/player/1630192',\n",
       "       '/player/1629669', '/player/1641806', '/player/1628373',\n",
       "       '/player/203994', '/player/1629670', '/player/1626220',\n",
       "       '/player/1629643', '/player/1629006', '/player/1630168',\n",
       "       '/player/1630171', '/player/203482', '/player/1630647',\n",
       "       '/player/1626224', '/player/1626162', '/player/101108',\n",
       "       '/player/1626166', '/player/1627780', '/player/1641970',\n",
       "       '/player/1641809', '/player/1630196', '/player/1641763',\n",
       "       '/player/1629618', '/player/1630590', '/player/203486',\n",
       "       '/player/1641764', '/player/1627751', '/player/1630197',\n",
       "       '/player/1629673', '/player/1629007', '/player/1641854',\n",
       "       '/player/1629008', '/player/203490', '/player/1626171',\n",
       "       '/player/204001', '/player/1630695', '/player/203939',\n",
       "       '/player/1626181', '/player/1630554', '/player/1630563',\n",
       "       '/player/1627752', '/player/1630202', '/player/1641765',\n",
       "       '/player/1630243', '/player/1629674', '/player/1630193',\n",
       "       '/player/1631311', '/player/1630186', '/player/203944',\n",
       "       '/player/1641871', '/player/1630559', '/player/1629629',\n",
       "       '/player/1630194', '/player/1629675', '/player/1631197',\n",
       "       '/player/1630208', '/player/1626196', '/player/1629130',\n",
       "       '/player/1629010', '/player/1629011', '/player/1631115',\n",
       "       '/player/1630526', '/player/1631223', '/player/1631157',\n",
       "       '/player/201565', '/player/1626179', '/player/1641712',\n",
       "       '/player/1626156', '/player/1630346', '/player/1627734',\n",
       "       '/player/1629677', '/player/1631257', '/player/1641766',\n",
       "       '/player/1630611', '/player/203967', '/player/1630846',\n",
       "       '/player/1631204', '/player/1629678', '/player/203471',\n",
       "       '/player/1631220', '/player/1630578', '/player/1641729',\n",
       "       '/player/1629012', '/player/1629013', '/player/1630549',\n",
       "       '/player/1631101', '/player/1641767', '/player/1627783',\n",
       "       '/player/1627732', '/player/1628424', '/player/1629014',\n",
       "       '/player/1630285', '/player/1630579', '/player/1631376',\n",
       "       '/player/1641771', '/player/1630606', '/player/203935',\n",
       "       '/player/1630696', '/player/202397', '/player/1630188',\n",
       "       '/player/1631173', '/player/1628372', '/player/1631095',\n",
       "       '/player/1641733', '/player/1631110', '/player/1630311',\n",
       "       '/player/1630531', '/player/1630205', '/player/1630191',\n",
       "       '/player/1631124', '/player/1629622', '/player/1630591',\n",
       "       '/player/1631306', '/player/1630256', '/player/1628369',\n",
       "       '/player/1630678', '/player/202066', '/player/1631207',\n",
       "       '/player/1628464', '/player/1630560', '/player/202738',\n",
       "       '/player/1641708', '/player/1641709', '/player/202691',\n",
       "       '/player/202684', '/player/1630550', '/player/1629680',\n",
       "       '/player/1630214', '/player/1631210', '/player/1630167',\n",
       "       '/player/1629308', '/player/1626157', '/player/1629018',\n",
       "       '/player/1631131', '/player/200782', '/player/1626167',\n",
       "       '/player/1641816', '/player/1630649', '/player/202685',\n",
       "       '/player/1627832', '/player/1629020', '/player/1630170',\n",
       "       '/player/1628426', '/player/1629216', '/player/202696',\n",
       "       '/player/1641774', '/player/1629731', '/player/1630532',\n",
       "       '/player/1629021', '/player/1630688', '/player/1631133',\n",
       "       '/player/1641716', '/player/1629022', '/player/1641717',\n",
       "       '/player/1641775', '/player/203933', '/player/1629023',\n",
       "       '/player/1630613', '/player/1631102', '/player/1629139',\n",
       "       '/player/1630322', '/player/1630570', '/player/1631212',\n",
       "       '/player/1641705', '/player/1631104', '/player/201566',\n",
       "       '/player/1629632', '/player/1628401', '/player/1641727',\n",
       "       '/player/1641715', '/player/1630598', '/player/203952',\n",
       "       '/player/1629623', '/player/1631214', '/player/1630314',\n",
       "       '/player/1629684', '/player/1631114', '/player/1631119',\n",
       "       '/player/1629026', '/player/1631109', '/player/1631466',\n",
       "       '/player/1630172', '/player/1630533', '/player/1629057',\n",
       "       '/player/1631246', '/player/1629627', '/player/1628391',\n",
       "       '/player/1630592', '/player/1629685', '/player/1630164',\n",
       "       '/player/1631209', '/player/1626174', '/player/1626153',\n",
       "       '/player/201152', '/player/1629027', '/player/1630209',\n",
       "       '/player/203469', '/player/1627826'], dtype='<U15')"
      ]
     },
     "execution_count": 3,
     "metadata": {},
     "output_type": "execute_result"
    }
   ],
   "source": [
    "playerUrls"
   ]
  },
  {
   "cell_type": "code",
   "execution_count": 20,
   "id": "02c9dcc1-3bad-4c32-b2a6-1b49f0713c02",
   "metadata": {},
   "outputs": [],
   "source": [
    "data = playerPasses\n",
    "csv_file = 'playerPassingPercent.csv'\n",
    "\n",
    "# Write the dictionary to a CSV file\n",
    "with open(csv_file, 'w', newline='') as csvfile:\n",
    "    writer = csv.DictWriter(csvfile, fieldnames=data.keys())\n",
    "    writer.writeheader()\n",
    "    for row in zip(*data.values()):\n",
    "        writer.writerow(dict(zip(data.keys(), row)))"
   ]
  },
  {
   "cell_type": "code",
   "execution_count": 45,
   "id": "a1d5d58f-60b6-49a6-a1ad-3589387fd48b",
   "metadata": {},
   "outputs": [],
   "source": [
    "playerUrls = np.array(playerUrls)"
   ]
  },
  {
   "cell_type": "code",
   "execution_count": 49,
   "id": "4d29b2d8-5680-40f3-8f49-317734eafc1d",
   "metadata": {},
   "outputs": [],
   "source": [
    "csv_file = 'playerIndexesNBA.csv'\n",
    "array = playerUrls\n",
    "np.savetxt(csv_file, array, delimiter=',', fmt='%s')\n"
   ]
  },
  {
   "cell_type": "code",
   "execution_count": 1,
   "id": "8b3d0448-cf5a-4fea-8150-d37bef0a40c1",
   "metadata": {},
   "outputs": [
    {
     "ename": "NameError",
     "evalue": "name 'playerUrls' is not defined",
     "output_type": "error",
     "traceback": [
      "\u001b[0;31m---------------------------------------------------------------------------\u001b[0m",
      "\u001b[0;31mNameError\u001b[0m                                 Traceback (most recent call last)",
      "Cell \u001b[0;32mIn[1], line 1\u001b[0m\n\u001b[0;32m----> 1\u001b[0m playerUrls\n",
      "\u001b[0;31mNameError\u001b[0m: name 'playerUrls' is not defined"
     ]
    }
   ],
   "source": [
    "playerUrls"
   ]
  },
  {
   "cell_type": "code",
   "execution_count": 12,
   "id": "8315ab06-a3c3-4a51-9095-7284b67c5e99",
   "metadata": {},
   "outputs": [
    {
     "data": {
      "text/plain": [
       "(              Pass To  FREQ M%\n",
       " 0      Banton, Dalano      0.1\n",
       " 1         Hauser, Sam      2.2\n",
       " 2     Tillman, Xavier      0.1\n",
       " 3   Pritchard, Payton      5.4\n",
       " 4     Brissett, Oshae      1.0\n",
       " 5     Mykhailiuk, Svi      0.2\n",
       " 6        Kornet, Luke      0.2\n",
       " 7      White, Derrick     27.2\n",
       " 8       Tatum, Jayson     23.2\n",
       " 9       Brown, Jaylen     19.3\n",
       " 10      Holiday, Jrue     17.7\n",
       " 11        Horford, Al      3.4,\n",
       "             Pass From  FREQ R%\n",
       " 0      Banton, Dalano      0.1\n",
       " 1         Hauser, Sam      2.5\n",
       " 2     Springer, Jaden      0.1\n",
       " 3     Tillman, Xavier      0.2\n",
       " 4      Stevens, Lamar      0.1\n",
       " 5   Pritchard, Payton      7.1\n",
       " 6     Brissett, Oshae      0.6\n",
       " 7     Mykhailiuk, Svi      0.3\n",
       " 8        Kornet, Luke      0.4\n",
       " 9      White, Derrick     26.1\n",
       " 10      Tatum, Jayson     24.0\n",
       " 11      Brown, Jaylen     20.1\n",
       " 12      Holiday, Jrue     15.4\n",
       " 13        Horford, Al      3.0)"
      ]
     },
     "execution_count": 12,
     "metadata": {},
     "output_type": "execute_result"
    }
   ],
   "source": [
    "url = \"https://www.nba.com/stats/player/204001/passes-dash\"\n",
    "\n",
    "\n",
    "# Set up Selenium webdriver (you need to have appropriate webdriver installed, e.g., chromedriver)\n",
    "driver = webdriver.Chrome()\n",
    "\n",
    "# Load the webpage\n",
    "driver.get(url)\n",
    "\n",
    "# Wait for the page to fully load (adjust the time as needed)\n",
    "driver.implicitly_wait(15)  # Wait for up to 15 seconds\n",
    "\n",
    "# Get the page source after dynamic content has been loaded\n",
    "page_source = driver.page_source\n",
    "\n",
    "# Close the webdriver\n",
    "driver.quit()\n",
    "\n",
    "# Parse the page source with BeautifulSoup\n",
    "soup = BeautifulSoup(page_source, \"html.parser\")\n",
    "\n",
    "\n",
    "# Find the table\n",
    "tables = soup.find_all(class_ = \"Crom_table__p1iZz\")\n",
    "\n",
    "\n",
    "\n",
    "summary = soup.find(class_ = \"PlayerSummary_mainInnerBio__JQkoj\")\n",
    "\n",
    "\n",
    "names_array = [p.get_text(strip=True) for p in summary]\n",
    "name = f'{names_array[-2]}{names_array[-1]}'\n",
    "\n",
    "\n",
    "    \n",
    "\n",
    "passIn = tables[0]\n",
    "passOut = tables[1]\n",
    "\n",
    "summary = soup.find(class_ = \"PlayerSummary_mainInnerBio__JQkoj\")\n",
    "names_array = [p.get_text(strip=True) for p in summary]\n",
    "name = f'{names_array[-2]}{names_array[-1]}'\n",
    "\n",
    "# Convert the table to a DataFrame\n",
    "df_in = pd.read_html(str(passIn))[0]  # Assuming the table you want is the first one\n",
    "df_in.columns = df_in.columns.droplevel()\n",
    "freq_in = df_in[[df_in.columns[0],df_in.columns[2]]]\n",
    "\n",
    "\n",
    "\n",
    "df_out = pd.read_html(str(passOut))[0]  # Assuming the table you want is the first one\n",
    "df_out.columns = df_out.columns.droplevel()\n",
    "freq_out = df_out[[df_out.columns[0],df_out.columns[2]]]\n",
    "\n",
    "    \n",
    "(freq_in,freq_out)"
   ]
  },
  {
   "cell_type": "code",
   "execution_count": 14,
   "id": "e79fa4f5-f144-4743-a3d7-760b1fa30324",
   "metadata": {},
   "outputs": [],
   "source": [
    "testDict = {'KristapsPorzingis' : (freq_in,freq_out)}"
   ]
  },
  {
   "cell_type": "code",
   "execution_count": 15,
   "id": "cf13f0b4-4290-49bd-ba93-63294c2682fe",
   "metadata": {},
   "outputs": [
    {
     "data": {
      "text/plain": [
       "(              Pass To  FREQ M%\n",
       " 0      Banton, Dalano      0.1\n",
       " 1         Hauser, Sam      2.2\n",
       " 2     Tillman, Xavier      0.1\n",
       " 3   Pritchard, Payton      5.4\n",
       " 4     Brissett, Oshae      1.0\n",
       " 5     Mykhailiuk, Svi      0.2\n",
       " 6        Kornet, Luke      0.2\n",
       " 7      White, Derrick     27.2\n",
       " 8       Tatum, Jayson     23.2\n",
       " 9       Brown, Jaylen     19.3\n",
       " 10      Holiday, Jrue     17.7\n",
       " 11        Horford, Al      3.4,\n",
       "             Pass From  FREQ R%\n",
       " 0      Banton, Dalano      0.1\n",
       " 1         Hauser, Sam      2.5\n",
       " 2     Springer, Jaden      0.1\n",
       " 3     Tillman, Xavier      0.2\n",
       " 4      Stevens, Lamar      0.1\n",
       " 5   Pritchard, Payton      7.1\n",
       " 6     Brissett, Oshae      0.6\n",
       " 7     Mykhailiuk, Svi      0.3\n",
       " 8        Kornet, Luke      0.4\n",
       " 9      White, Derrick     26.1\n",
       " 10      Tatum, Jayson     24.0\n",
       " 11      Brown, Jaylen     20.1\n",
       " 12      Holiday, Jrue     15.4\n",
       " 13        Horford, Al      3.0)"
      ]
     },
     "execution_count": 15,
     "metadata": {},
     "output_type": "execute_result"
    }
   ],
   "source": [
    "testDict['KristapsPorzingis']"
   ]
  },
  {
   "cell_type": "code",
   "execution_count": 16,
   "id": "f2d23014-6dc0-4529-a195-75b366d983c2",
   "metadata": {},
   "outputs": [
    {
     "name": "stdout",
     "output_type": "stream",
     "text": [
      "CSV file has been saved as testDict.csv\n"
     ]
    }
   ],
   "source": [
    "csv_file = \"testDict.csv\"\n",
    "\n",
    "# Open the CSV file in write mode\n",
    "with open(csv_file, 'w', newline='') as file:\n",
    "    # Create a CSV writer object\n",
    "    writer = csv.writer(file)\n",
    "    \n",
    "    # Write the header row\n",
    "    writer.writerow(['Team', 'Wins'])\n",
    "    \n",
    "    # Write each key-value pair as a row in the CSV file\n",
    "    for team, wins in testDict.items():\n",
    "        writer.writerow([team, wins])\n",
    "\n",
    "print(\"CSV file has been saved as\", csv_file)"
   ]
  },
  {
   "cell_type": "code",
   "execution_count": null,
   "id": "5a8d982f-21f3-47cc-a366-dd9d931bfd33",
   "metadata": {},
   "outputs": [],
   "source": []
  }
 ],
 "metadata": {
  "kernelspec": {
   "display_name": "Python 3 (ipykernel)",
   "language": "python",
   "name": "python3"
  },
  "language_info": {
   "codemirror_mode": {
    "name": "ipython",
    "version": 3
   },
   "file_extension": ".py",
   "mimetype": "text/x-python",
   "name": "python",
   "nbconvert_exporter": "python",
   "pygments_lexer": "ipython3",
   "version": "3.11.7"
  }
 },
 "nbformat": 4,
 "nbformat_minor": 5
}
