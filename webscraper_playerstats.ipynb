{
 "cells": [
  {
   "cell_type": "code",
   "execution_count": 1,
   "id": "1716642e-2d7f-4133-a3ed-e25bb6d2f4df",
   "metadata": {},
   "outputs": [],
   "source": [
    "import requests\n",
    "from bs4 import BeautifulSoup\n",
    "import pandas as pd"
   ]
  },
  {
   "cell_type": "code",
   "execution_count": 4,
   "id": "b9cae241-66ef-4f0d-9fdb-ec3079ad3420",
   "metadata": {},
   "outputs": [
    {
     "name": "stderr",
     "output_type": "stream",
     "text": [
      "/var/folders/s6/vnff962s2xgdxx04rh9bw0wm0000gn/T/ipykernel_69481/2316535079.py:19: FutureWarning: Passing literal html to 'read_html' is deprecated and will be removed in a future version. To read from a literal string, wrap it in a 'StringIO' object.\n",
      "  df = pd.read_html(str(table))[0]\n",
      "/var/folders/s6/vnff962s2xgdxx04rh9bw0wm0000gn/T/ipykernel_69481/2316535079.py:20: FutureWarning: Passing literal html to 'read_html' is deprecated and will be removed in a future version. To read from a literal string, wrap it in a 'StringIO' object.\n",
      "  dfAdvanced = pd.read_html(str(tableAdvanced))[0]\n"
     ]
    }
   ],
   "source": [
    "# URL of the webpage containing the table\n",
    "url = \"https://www.basketball-reference.com/leagues/NBA_2024_per_poss.html\"\n",
    "urlAdvanced = \"https://www.basketball-reference.com/leagues/NBA_2024_advanced.html\"\n",
    "\n",
    "\n",
    "# Send a GET request to the URL\n",
    "response = requests.get(url)\n",
    "responseAdvanced = requests.get(urlAdvanced)\n",
    "\n",
    "# Parse the HTML content\n",
    "soup = BeautifulSoup(response.text, 'html.parser')\n",
    "soupAdvanced = BeautifulSoup(responseAdvanced.text, 'html.parser')\n",
    "\n",
    "# Find the table with id 'per_poss_stats'\n",
    "table = soup.find('table', {'id': 'per_poss_stats'})\n",
    "tableAdvanced = soupAdvanced.find('table', {'id': 'advanced_stats'})\n",
    "\n",
    "# Convert the table into a DataFrame\n",
    "df = pd.read_html(str(table))[0]\n",
    "dfAdvanced = pd.read_html(str(tableAdvanced))[0]\n",
    "\n"
   ]
  },
  {
   "cell_type": "code",
   "execution_count": 2,
   "id": "90bd837a-3d4f-415a-bfbc-0a6e59700e6f",
   "metadata": {},
   "outputs": [
    {
     "name": "stderr",
     "output_type": "stream",
     "text": [
      "/var/folders/s6/vnff962s2xgdxx04rh9bw0wm0000gn/T/ipykernel_43997/973633896.py:15: FutureWarning: Passing literal html to 'read_html' is deprecated and will be removed in a future version. To read from a literal string, wrap it in a 'StringIO' object.\n",
      "  df = pd.read_html(str(table))[0]\n"
     ]
    }
   ],
   "source": [
    "# URL of the webpage containing the table\n",
    "url = \"https://www.basketball-reference.com/leagues/NBA_2024_per_game.html\"\n",
    "\n",
    "\n",
    "# Send a GET request to the URL\n",
    "response = requests.get(url)\n",
    "\n",
    "# Parse the HTML content\n",
    "soup = BeautifulSoup(response.text, 'html.parser')\n",
    "\n",
    "# Find the table with id 'per_poss_stats'\n",
    "table = soup.find('table', {'id': 'per_game_stats'})\n",
    "\n",
    "# Convert the table into a DataFrame\n",
    "df = pd.read_html(str(table))[0]\n",
    "df_no_duplicates = df.drop_duplicates(subset=['Player'])\n",
    "\n",
    "df_no_duplicates.to_csv('playerDataPerGame.csv', index=False)  # Set index=False to avoid saving the index column\n"
   ]
  },
  {
   "cell_type": "code",
   "execution_count": 5,
   "id": "4931953e-3cac-4df7-a4cc-733565de8284",
   "metadata": {},
   "outputs": [],
   "source": [
    "df_no_duplicates = df.drop_duplicates(subset=['Player'])\n",
    "df_no_duplicatesAdvanced = dfAdvanced.drop_duplicates(subset=['Player'])\n"
   ]
  },
  {
   "cell_type": "code",
   "execution_count": 8,
   "id": "3babda13-4d0a-416b-8688-fc4198a07445",
   "metadata": {},
   "outputs": [],
   "source": [
    "df_no_duplicates.to_csv('playerData.csv', index=False)  # Set index=False to avoid saving the index column\n",
    "df_no_duplicatesAdvanced.to_csv('playerDataAdvanced.csv', index=False)  # Set index=False to avoid saving the index column\n"
   ]
  },
  {
   "cell_type": "code",
   "execution_count": null,
   "id": "71289b0e-c143-4ff2-8f11-83d66d92fb42",
   "metadata": {},
   "outputs": [],
   "source": []
  }
 ],
 "metadata": {
  "kernelspec": {
   "display_name": "Python 3 (ipykernel)",
   "language": "python",
   "name": "python3"
  },
  "language_info": {
   "codemirror_mode": {
    "name": "ipython",
    "version": 3
   },
   "file_extension": ".py",
   "mimetype": "text/x-python",
   "name": "python",
   "nbconvert_exporter": "python",
   "pygments_lexer": "ipython3",
   "version": "3.11.7"
  }
 },
 "nbformat": 4,
 "nbformat_minor": 5
}
